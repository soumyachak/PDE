{
 "cells": [
  {
   "cell_type": "markdown",
   "metadata": {},
   "source": [
    "$$ \\frac{d f}{d x} = 2 \\pi \\cos{[2 \\pi x]}, \\quad f(0)=0.5. $$"
   ]
  },
  {
   "cell_type": "code",
   "execution_count": 135,
   "metadata": {},
   "outputs": [],
   "source": [
    "import numpy as np\n",
    "import matplotlib.pyplot as plt \n",
    "import tensorflow as tf\n",
    "from tensorflow.keras.models import Sequential\n",
    "from tensorflow.keras.layers import Dense\n",
    "from tensorflow.keras.optimizers import Adam\n",
    "from tensorflow.keras.losses import MSE\n",
    "import math"
   ]
  },
  {
   "cell_type": "code",
   "execution_count": 136,
   "metadata": {},
   "outputs": [],
   "source": [
    "def samples(batch_size=100, n_inputs=1):\n",
    "    arr = np.random.rand(batch_size,n_inputs)\n",
    "    array_tf = tf.convert_to_tensor(arr)\n",
    "    array_tf = tf.cast(array_tf, tf.float64)\n",
    "    return array_tf"
   ]
  },
  {
   "cell_type": "code",
   "execution_count": 137,
   "metadata": {},
   "outputs": [
    {
     "name": "stdout",
     "output_type": "stream",
     "text": [
      "Model: \"sequential_31\"\n",
      "_________________________________________________________________\n",
      " Layer (type)                Output Shape              Param #   \n",
      "=================================================================\n",
      " dense_93 (Dense)            (None, 8)                 16        \n",
      "                                                                 \n",
      " dense_94 (Dense)            (None, 4)                 36        \n",
      "                                                                 \n",
      " dense_95 (Dense)            (None, 1)                 5         \n",
      "                                                                 \n",
      "=================================================================\n",
      "Total params: 57\n",
      "Trainable params: 57\n",
      "Non-trainable params: 0\n",
      "_________________________________________________________________\n"
     ]
    }
   ],
   "source": [
    "model = tf.keras.Sequential()\n",
    "model.add(Dense(8, input_shape=(1,), activation='tanh'))\n",
    "model.add(Dense(4, activation='tanh'))\n",
    "model.add(Dense(1))\n",
    "\n",
    "model.summary()"
   ]
  },
  {
   "cell_type": "code",
   "execution_count": 138,
   "metadata": {},
   "outputs": [
    {
     "name": "stdout",
     "output_type": "stream",
     "text": [
      "pde_loss: 0.0037638518862322073    boundary_loss: [7.6501345930068965e-05]\n",
      "pde_loss: 0.0052871654061420045    boundary_loss: [7.4854553545833369e-05]\n",
      "pde_loss: 0.0018302851024830371    boundary_loss: [2.807721060449353e-05]\n",
      "pde_loss: 0.0015533832974825442    boundary_loss: [4.7956268250715084e-05]\n",
      "pde_loss: 0.00809642037455789    boundary_loss: [0.00042316086593530144]\n",
      "pde_loss: 0.0020605352911388379    boundary_loss: [0.0013165005180013623]\n",
      "pde_loss: 0.00039559099297621219    boundary_loss: [2.5895445929791094e-06]\n",
      "pde_loss: 0.00033157498607053345    boundary_loss: [2.5022420437892379e-06]\n",
      "pde_loss: 0.0026203981499735318    boundary_loss: [6.6822107047670443e-05]\n"
     ]
    }
   ],
   "source": [
    "N_STEPS = 5000\n",
    "BATCH_SIZE = 100\n",
    "opt = Adam(learning_rate=0.02)\n",
    "\n",
    "hist = []\n",
    "log_each = 500\n",
    "\n",
    "for step in range(1, N_STEPS):\n",
    "    \n",
    "    X = samples(BATCH_SIZE, 1)\n",
    "    \n",
    "    with tf.GradientTape() as tape1:\n",
    "        # pde loss\n",
    "        with tf.GradientTape() as tape:\n",
    "            tape.watch(X)\n",
    "            pred = model(X)\n",
    "            \n",
    "        df_dx = tape.gradient(pred, X)\n",
    "        pi = tf.constant(math.pi)\n",
    "        pi = tf.cast(pi, tf.float64)\n",
    "        pde_loss = MSE(df_dx, 2*pi*tf.math.cos(2*pi*X))\n",
    "        pde_loss = tf.cast(pde_loss, tf.float64)\n",
    "\n",
    "        # boundary condition loss\n",
    "        boundary_loss = MSE(model(tf.convert_to_tensor(np.array((1)).reshape(1,1))), tf.convert_to_tensor(np.array((0.5)).reshape(1,1)))\n",
    "        \n",
    "        # total loss\n",
    "        loss = tf.reduce_mean(pde_loss + boundary_loss)\n",
    "        \n",
    "    # update\n",
    "    grads = tape1.gradient(loss, model.trainable_variables)\n",
    "    \n",
    "    opt.apply_gradients(zip(grads, model.trainable_variables))\n",
    "    \n",
    "    hist.append(loss)\n",
    "    if step % log_each == 0:\n",
    "        tf.print(\"pde_loss:\" , tf.reduce_mean(pde_loss), \"  \", \"boundary_loss:\" , boundary_loss)"
   ]
  },
  {
   "cell_type": "code",
   "execution_count": 139,
   "metadata": {},
   "outputs": [
    {
     "data": {
      "text/plain": [
       "[<matplotlib.lines.Line2D at 0x1bb0179bf40>]"
      ]
     },
     "execution_count": 139,
     "metadata": {},
     "output_type": "execute_result"
    },
    {
     "data": {
      "image/png": "[encoded data removed]",
      "text/plain": [
       "<Figure size 432x288 with 1 Axes>"
      ]
     },
     "metadata": {
      "needs_background": "light"
     },
     "output_type": "display_data"
    }
   ],
   "source": [
    "y= model(np.linspace(0,1,10).reshape(-1,1)).numpy().reshape(-1)\n",
    "plt.scatter(np.linspace(0,1,10), y , c='green')\n",
    "# actual solution\n",
    "plt.plot(np.linspace(0,1,100), np.sin(2 * np.pi * np.linspace(0,1,100)) + 0.5, c='black')"
   ]
  }
 ],
 "metadata": {
  "interpreter": {
   "hash": "b3ba2566441a7c06988d0923437866b63cedc61552a5af99d1f4fb67d367b25f"
  },
  "kernelspec": {
   "display_name": "Python 3.9.7 64-bit ('base': conda)",
   "language": "python",
   "name": "python3"
  },
  "language_info": {
   "codemirror_mode": {
    "name": "ipython",
    "version": 3
   },
   "file_extension": ".py",
   "mimetype": "text/x-python",
   "name": "python",
   "nbconvert_exporter": "python",
   "pygments_lexer": "ipython3",
   "version": "3.9.7"
  },
  "orig_nbformat": 4
 },
 "nbformat": 4,
 "nbformat_minor": 2
}
