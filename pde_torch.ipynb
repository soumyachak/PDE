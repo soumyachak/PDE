{
 "cells": [
  {
   "cell_type": "markdown",
   "metadata": {},
   "source": [
    "$$ \\frac{d f}{d x} = 2 \\pi\\cos{[2\\pi x]}, \\quad f(0)=0.5. $$"
   ]
  },
  {
   "cell_type": "code",
   "execution_count": 309,
   "metadata": {},
   "outputs": [
    {
     "data": {
      "text/plain": [
       "'1.10.1'"
      ]
     },
     "execution_count": 309,
     "metadata": {},
     "output_type": "execute_result"
    }
   ],
   "source": [
    "import numpy as np \n",
    "import matplotlib.pyplot as plt \n",
    "import torch\n",
    "import torch.nn as nn\n",
    "\n",
    "device = \"cuda\" if torch.cuda.is_available() else \"cpu\"\n",
    "\n",
    "torch.__version__"
   ]
  },
  {
   "cell_type": "code",
   "execution_count": 310,
   "metadata": {},
   "outputs": [],
   "source": [
    "def samples(batch_size=100, n_inputs=1):     \n",
    "    return torch.rand((batch_size, n_inputs))"
   ]
  },
  {
   "cell_type": "code",
   "execution_count": 311,
   "metadata": {},
   "outputs": [
    {
     "data": {
      "text/plain": [
       "Sequential(\n",
       "  (0): Linear(in_features=1, out_features=8, bias=True)\n",
       "  (1): Tanh()\n",
       "  (2): Linear(in_features=8, out_features=4, bias=True)\n",
       "  (3): Tanh()\n",
       "  (4): Linear(in_features=4, out_features=1, bias=True)\n",
       ")"
      ]
     },
     "execution_count": 311,
     "metadata": {},
     "output_type": "execute_result"
    }
   ],
   "source": [
    "mlp = nn.Sequential(\n",
    "\tnn.Linear(1, 8),\n",
    "  \tnn.Tanh(),\n",
    "\tnn.Linear(8, 4), \n",
    "\tnn.Tanh(), \n",
    "\tnn.Linear(4, 1)\n",
    ")\n",
    "\n",
    "mlp"
   ]
  },
  {
   "cell_type": "code",
   "execution_count": 312,
   "metadata": {},
   "outputs": [
    {
     "name": "stdout",
     "output_type": "stream",
     "text": [
      "50/5000 pde_loss 5.22864 boundary_loss 0.05654\n",
      "100/5000 pde_loss 0.08172 boundary_loss 0.00116\n",
      "150/5000 pde_loss 0.02611 boundary_loss 0.00060\n",
      "200/5000 pde_loss 0.02328 boundary_loss 0.00014\n",
      "250/5000 pde_loss 0.01900 boundary_loss 0.00029\n",
      "300/5000 pde_loss 0.02300 boundary_loss 0.00004\n",
      "350/5000 pde_loss 0.01552 boundary_loss 0.00001\n",
      "400/5000 pde_loss 0.01262 boundary_loss 0.00009\n",
      "450/5000 pde_loss 0.00895 boundary_loss 0.00001\n",
      "500/5000 pde_loss 0.01085 boundary_loss 0.00004\n",
      "550/5000 pde_loss 0.00814 boundary_loss 0.00001\n",
      "600/5000 pde_loss 0.00840 boundary_loss 0.00001\n",
      "650/5000 pde_loss 0.00636 boundary_loss 0.00012\n",
      "700/5000 pde_loss 0.00771 boundary_loss 0.00008\n",
      "750/5000 pde_loss 0.00851 boundary_loss 0.00006\n",
      "800/5000 pde_loss 0.00597 boundary_loss 0.00021\n",
      "850/5000 pde_loss 0.00692 boundary_loss 0.00061\n",
      "900/5000 pde_loss 0.00422 boundary_loss 0.00003\n",
      "950/5000 pde_loss 0.00401 boundary_loss 0.00003\n",
      "1000/5000 pde_loss 0.00420 boundary_loss 0.00000\n",
      "1050/5000 pde_loss 0.01104 boundary_loss 0.00000\n",
      "1100/5000 pde_loss 0.00326 boundary_loss 0.00007\n",
      "1150/5000 pde_loss 0.00706 boundary_loss 0.00002\n",
      "1200/5000 pde_loss 0.01029 boundary_loss 0.00011\n",
      "1250/5000 pde_loss 0.00407 boundary_loss 0.00012\n",
      "1300/5000 pde_loss 0.00372 boundary_loss 0.00012\n",
      "1350/5000 pde_loss 0.00611 boundary_loss 0.00071\n",
      "1400/5000 pde_loss 0.00380 boundary_loss 0.00016\n",
      "1450/5000 pde_loss 0.00188 boundary_loss 0.00001\n",
      "1500/5000 pde_loss 0.00304 boundary_loss 0.00040\n",
      "1550/5000 pde_loss 0.00226 boundary_loss 0.00005\n",
      "1600/5000 pde_loss 0.00660 boundary_loss 0.00029\n",
      "1650/5000 pde_loss 0.00695 boundary_loss 0.00002\n",
      "1700/5000 pde_loss 0.00287 boundary_loss 0.00009\n",
      "1750/5000 pde_loss 0.00353 boundary_loss 0.00014\n",
      "1800/5000 pde_loss 0.00356 boundary_loss 0.00007\n",
      "1850/5000 pde_loss 0.00151 boundary_loss 0.00008\n",
      "1900/5000 pde_loss 0.00145 boundary_loss 0.00002\n",
      "1950/5000 pde_loss 0.00222 boundary_loss 0.00001\n",
      "2000/5000 pde_loss 0.00342 boundary_loss 0.00012\n",
      "2050/5000 pde_loss 0.00166 boundary_loss 0.00020\n",
      "2100/5000 pde_loss 0.00334 boundary_loss 0.00032\n",
      "2150/5000 pde_loss 0.00254 boundary_loss 0.00012\n",
      "2200/5000 pde_loss 0.00216 boundary_loss 0.00002\n",
      "2250/5000 pde_loss 0.00276 boundary_loss 0.00003\n",
      "2300/5000 pde_loss 0.00465 boundary_loss 0.00001\n",
      "2350/5000 pde_loss 0.00160 boundary_loss 0.00000\n",
      "2400/5000 pde_loss 0.00445 boundary_loss 0.00051\n",
      "2450/5000 pde_loss 0.00574 boundary_loss 0.00040\n",
      "2500/5000 pde_loss 0.00390 boundary_loss 0.00006\n",
      "2550/5000 pde_loss 0.00345 boundary_loss 0.00040\n",
      "2600/5000 pde_loss 0.00096 boundary_loss 0.00004\n",
      "2650/5000 pde_loss 0.00093 boundary_loss 0.00002\n",
      "2700/5000 pde_loss 0.00205 boundary_loss 0.00001\n",
      "2750/5000 pde_loss 0.00324 boundary_loss 0.00027\n",
      "2800/5000 pde_loss 0.00319 boundary_loss 0.00025\n",
      "2850/5000 pde_loss 0.00541 boundary_loss 0.00002\n",
      "2900/5000 pde_loss 0.00186 boundary_loss 0.00003\n",
      "2950/5000 pde_loss 0.00060 boundary_loss 0.00004\n",
      "3000/5000 pde_loss 0.00062 boundary_loss 0.00001\n",
      "3050/5000 pde_loss 0.00208 boundary_loss 0.00003\n",
      "3100/5000 pde_loss 0.00117 boundary_loss 0.00017\n",
      "3150/5000 pde_loss 0.00858 boundary_loss 0.00003\n",
      "3200/5000 pde_loss 0.00734 boundary_loss 0.00037\n",
      "3250/5000 pde_loss 0.01202 boundary_loss 0.00007\n",
      "3300/5000 pde_loss 0.00098 boundary_loss 0.00002\n",
      "3350/5000 pde_loss 0.00254 boundary_loss 0.00010\n",
      "3400/5000 pde_loss 0.00067 boundary_loss 0.00014\n",
      "3450/5000 pde_loss 0.00285 boundary_loss 0.00000\n",
      "3500/5000 pde_loss 0.00053 boundary_loss 0.00000\n",
      "3550/5000 pde_loss 0.00793 boundary_loss 0.00017\n",
      "3600/5000 pde_loss 0.00994 boundary_loss 0.00011\n",
      "3650/5000 pde_loss 0.00077 boundary_loss 0.00000\n",
      "3700/5000 pde_loss 0.00074 boundary_loss 0.00004\n",
      "3750/5000 pde_loss 0.00061 boundary_loss 0.00001\n",
      "3800/5000 pde_loss 0.00894 boundary_loss 0.00052\n",
      "3850/5000 pde_loss 0.00056 boundary_loss 0.00001\n",
      "3900/5000 pde_loss 0.00266 boundary_loss 0.00005\n",
      "3950/5000 pde_loss 0.00066 boundary_loss 0.00001\n",
      "4000/5000 pde_loss 0.00105 boundary_loss 0.00003\n",
      "4050/5000 pde_loss 0.00036 boundary_loss 0.00001\n",
      "4100/5000 pde_loss 0.00035 boundary_loss 0.00003\n",
      "4150/5000 pde_loss 0.01692 boundary_loss 0.00037\n",
      "4200/5000 pde_loss 0.01110 boundary_loss 0.00006\n",
      "4250/5000 pde_loss 0.00436 boundary_loss 0.00015\n",
      "4300/5000 pde_loss 0.00033 boundary_loss 0.00002\n",
      "4350/5000 pde_loss 0.00026 boundary_loss 0.00000\n",
      "4400/5000 pde_loss 0.00039 boundary_loss 0.00000\n",
      "4450/5000 pde_loss 0.00217 boundary_loss 0.00010\n",
      "4500/5000 pde_loss 0.00116 boundary_loss 0.00000\n",
      "4550/5000 pde_loss 0.00108 boundary_loss 0.00000\n",
      "4600/5000 pde_loss 0.00376 boundary_loss 0.00001\n",
      "4650/5000 pde_loss 0.00188 boundary_loss 0.00015\n",
      "4700/5000 pde_loss 0.00028 boundary_loss 0.00001\n",
      "4750/5000 pde_loss 0.00101 boundary_loss 0.00013\n",
      "4800/5000 pde_loss 0.00042 boundary_loss 0.00003\n",
      "4850/5000 pde_loss 0.00319 boundary_loss 0.00033\n",
      "4900/5000 pde_loss 0.02324 boundary_loss 0.00066\n",
      "4950/5000 pde_loss 0.00092 boundary_loss 0.00003\n"
     ]
    }
   ],
   "source": [
    "N_STEPS = 5000\n",
    "BATCH_SIZE = 100\n",
    "\n",
    "optimizer = torch.optim.Adam(mlp.parameters(), lr=0.02)\n",
    "criterion = torch.nn.MSELoss()\n",
    "\n",
    "hist = []\n",
    "log_each = 50\n",
    "for step in range(1, N_STEPS):\n",
    "\n",
    "    X = samples(BATCH_SIZE, 1)\n",
    "    X.requires_grad_(True)\n",
    "    \n",
    "    # pde loss\n",
    "    f = mlp(X)\n",
    "    df_dx, = torch.autograd.grad(f, X, grad_outputs = torch.ones_like(X),create_graph=True)\n",
    "    pde_loss = criterion(df_dx, 2*torch.pi*torch.cos(2*torch.pi*X))\n",
    "\n",
    "    # boundary condition loss\n",
    "    boundary_loss = criterion(mlp(torch.tensor([0.]).reshape(1,1)), torch.tensor([0.5]).reshape(1,1)) \n",
    "    \n",
    "    # update\n",
    "    optimizer.zero_grad()\n",
    "    loss = pde_loss + boundary_loss\n",
    "    loss.backward()\n",
    "    optimizer.step()\n",
    "   \n",
    "    hist.append(loss.item())\n",
    "    if step % log_each == 0:\n",
    "        print(f'{step}/{N_STEPS} pde_loss {pde_loss.item():.5f} boundary_loss {boundary_loss.item():.5f}')"
   ]
  },
  {
   "cell_type": "code",
   "execution_count": 313,
   "metadata": {},
   "outputs": [
    {
     "data": {
      "text/plain": [
       "[<matplotlib.lines.Line2D at 0x266b2a725e0>]"
      ]
     },
     "execution_count": 313,
     "metadata": {},
     "output_type": "execute_result"
    },
    {
     "data": {
      "image/png": "[encoded data removed]",
      "text/plain": [
       "<Figure size 432x288 with 1 Axes>"
      ]
     },
     "metadata": {
      "needs_background": "light"
     },
     "output_type": "display_data"
    }
   ],
   "source": [
    "y= mlp(torch.linspace(0,1,10).reshape(-1,1)).detach().numpy().reshape(-1)\n",
    "plt.scatter(np.linspace(0,1,10), y , c='green')\n",
    "# actual solution\n",
    "plt.plot(np.linspace(0,1,100), np.sin(2 * np.pi * np.linspace(0,1,100)) + 0.5, c='black')"
   ]
  }
 ],
 "metadata": {
  "interpreter": {
   "hash": "b3ba2566441a7c06988d0923437866b63cedc61552a5af99d1f4fb67d367b25f"
  },
  "kernelspec": {
   "display_name": "Python 3.9.7 64-bit ('base': conda)",
   "language": "python",
   "name": "python3"
  },
  "language_info": {
   "codemirror_mode": {
    "name": "ipython",
    "version": 3
   },
   "file_extension": ".py",
   "mimetype": "text/x-python",
   "name": "python",
   "nbconvert_exporter": "python",
   "pygments_lexer": "ipython3",
   "version": "3.8.10"
  },
  "orig_nbformat": 4
 },
 "nbformat": 4,
 "nbformat_minor": 2
}
