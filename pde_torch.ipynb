{
 "cells": [
  {
   "cell_type": "markdown",
   "metadata": {},
   "source": [
    "$$ \\frac{d f}{d x} = 2 \\pi\\cos{[2\\pi x]}, \\quad f(0)=0.5. $$"
   ]
  },
  {
   "cell_type": "code",
   "execution_count": 1,
   "metadata": {},
   "outputs": [],
   "source": [
    "import numpy as np \n",
    "import matplotlib.pyplot as plt \n",
    "import torch\n",
    "import torch.nn as nn"
   ]
  },
  {
   "cell_type": "code",
   "execution_count": 2,
   "metadata": {},
   "outputs": [],
   "source": [
    "def samples(batch_size=100, n_inputs=1):     \n",
    "    return torch.rand((batch_size, n_inputs))"
   ]
  },
  {
   "cell_type": "code",
   "execution_count": 3,
   "metadata": {},
   "outputs": [
    {
     "data": {
      "text/plain": [
       "Sequential(\n",
       "  (0): Linear(in_features=1, out_features=8, bias=True)\n",
       "  (1): Tanh()\n",
       "  (2): Linear(in_features=8, out_features=4, bias=True)\n",
       "  (3): Tanh()\n",
       "  (4): Linear(in_features=4, out_features=1, bias=True)\n",
       ")"
      ]
     },
     "execution_count": 3,
     "metadata": {},
     "output_type": "execute_result"
    }
   ],
   "source": [
    "mlp = nn.Sequential(\n",
    "\tnn.Linear(1, 8),\n",
    "  \tnn.Tanh(),\n",
    "\tnn.Linear(8, 4), \n",
    "\tnn.Tanh(), \n",
    "\tnn.Linear(4, 1)\n",
    ")\n",
    "\n",
    "mlp"
   ]
  },
  {
   "cell_type": "code",
   "execution_count": 4,
   "metadata": {},
   "outputs": [
    {
     "name": "stdout",
     "output_type": "stream",
     "text": [
      "50/5000 pde_loss 8.01134 boundary_loss 0.00270\n",
      "100/5000 pde_loss 6.90775 boundary_loss 0.00068\n",
      "150/5000 pde_loss 0.35247 boundary_loss 0.08644\n",
      "200/5000 pde_loss 0.00531 boundary_loss 0.00058\n",
      "250/5000 pde_loss 0.00159 boundary_loss 0.00000\n",
      "300/5000 pde_loss 0.00165 boundary_loss 0.00001\n",
      "350/5000 pde_loss 0.00231 boundary_loss 0.00000\n",
      "400/5000 pde_loss 0.00177 boundary_loss 0.00001\n",
      "450/5000 pde_loss 0.00138 boundary_loss 0.00000\n",
      "500/5000 pde_loss 0.00144 boundary_loss 0.00002\n",
      "550/5000 pde_loss 0.00111 boundary_loss 0.00002\n",
      "600/5000 pde_loss 0.00177 boundary_loss 0.00001\n",
      "650/5000 pde_loss 0.00169 boundary_loss 0.00001\n",
      "700/5000 pde_loss 0.00281 boundary_loss 0.00002\n",
      "750/5000 pde_loss 0.00172 boundary_loss 0.00007\n",
      "800/5000 pde_loss 0.00199 boundary_loss 0.00008\n",
      "850/5000 pde_loss 0.00489 boundary_loss 0.00009\n",
      "900/5000 pde_loss 0.00206 boundary_loss 0.00006\n",
      "950/5000 pde_loss 0.00180 boundary_loss 0.00001\n",
      "1000/5000 pde_loss 0.00108 boundary_loss 0.00002\n",
      "1050/5000 pde_loss 0.00571 boundary_loss 0.00004\n",
      "1100/5000 pde_loss 0.00277 boundary_loss 0.00001\n",
      "1150/5000 pde_loss 0.00524 boundary_loss 0.00000\n",
      "1200/5000 pde_loss 0.00907 boundary_loss 0.00009\n",
      "1250/5000 pde_loss 0.00148 boundary_loss 0.00007\n",
      "1300/5000 pde_loss 0.00080 boundary_loss 0.00001\n",
      "1350/5000 pde_loss 0.01750 boundary_loss 0.00001\n",
      "1400/5000 pde_loss 0.00244 boundary_loss 0.00000\n",
      "1450/5000 pde_loss 0.00181 boundary_loss 0.00037\n",
      "1500/5000 pde_loss 0.00085 boundary_loss 0.00004\n",
      "1550/5000 pde_loss 0.00089 boundary_loss 0.00001\n",
      "1600/5000 pde_loss 0.00253 boundary_loss 0.00000\n",
      "1650/5000 pde_loss 0.00114 boundary_loss 0.00002\n",
      "1700/5000 pde_loss 0.00155 boundary_loss 0.00000\n",
      "1750/5000 pde_loss 0.00196 boundary_loss 0.00004\n",
      "1800/5000 pde_loss 0.00100 boundary_loss 0.00009\n",
      "1850/5000 pde_loss 0.00125 boundary_loss 0.00008\n",
      "1900/5000 pde_loss 0.00116 boundary_loss 0.00000\n",
      "1950/5000 pde_loss 0.00094 boundary_loss 0.00006\n",
      "2000/5000 pde_loss 0.00060 boundary_loss 0.00000\n",
      "2050/5000 pde_loss 0.00794 boundary_loss 0.00000\n",
      "2100/5000 pde_loss 0.00111 boundary_loss 0.00017\n",
      "2150/5000 pde_loss 0.00085 boundary_loss 0.00002\n",
      "2200/5000 pde_loss 0.00359 boundary_loss 0.00011\n",
      "2250/5000 pde_loss 0.00106 boundary_loss 0.00000\n",
      "2300/5000 pde_loss 0.00325 boundary_loss 0.00008\n",
      "2350/5000 pde_loss 0.00077 boundary_loss 0.00004\n",
      "2400/5000 pde_loss 0.00062 boundary_loss 0.00000\n",
      "2450/5000 pde_loss 0.00072 boundary_loss 0.00003\n",
      "2500/5000 pde_loss 0.00070 boundary_loss 0.00017\n",
      "2550/5000 pde_loss 0.00135 boundary_loss 0.00008\n",
      "2600/5000 pde_loss 0.00051 boundary_loss 0.00001\n",
      "2650/5000 pde_loss 0.00149 boundary_loss 0.00024\n",
      "2700/5000 pde_loss 0.00197 boundary_loss 0.00034\n",
      "2750/5000 pde_loss 0.00290 boundary_loss 0.00001\n",
      "2800/5000 pde_loss 0.00421 boundary_loss 0.00030\n",
      "2850/5000 pde_loss 0.00203 boundary_loss 0.00002\n",
      "2900/5000 pde_loss 0.00930 boundary_loss 0.00005\n",
      "2950/5000 pde_loss 0.00059 boundary_loss 0.00008\n",
      "3000/5000 pde_loss 0.00103 boundary_loss 0.00004\n",
      "3050/5000 pde_loss 0.00088 boundary_loss 0.00007\n",
      "3100/5000 pde_loss 0.00060 boundary_loss 0.00003\n",
      "3150/5000 pde_loss 0.00107 boundary_loss 0.00035\n",
      "3200/5000 pde_loss 0.00208 boundary_loss 0.00010\n",
      "3250/5000 pde_loss 0.00074 boundary_loss 0.00003\n",
      "3300/5000 pde_loss 0.00136 boundary_loss 0.00003\n",
      "3350/5000 pde_loss 0.03431 boundary_loss 0.00091\n",
      "3400/5000 pde_loss 0.00066 boundary_loss 0.00002\n",
      "3450/5000 pde_loss 0.00043 boundary_loss 0.00015\n",
      "3500/5000 pde_loss 0.00152 boundary_loss 0.00012\n",
      "3550/5000 pde_loss 0.00195 boundary_loss 0.00002\n",
      "3600/5000 pde_loss 0.00056 boundary_loss 0.00001\n",
      "3650/5000 pde_loss 0.00034 boundary_loss 0.00000\n",
      "3700/5000 pde_loss 0.00046 boundary_loss 0.00000\n",
      "3750/5000 pde_loss 0.00113 boundary_loss 0.00005\n",
      "3800/5000 pde_loss 0.00127 boundary_loss 0.00025\n",
      "3850/5000 pde_loss 0.00048 boundary_loss 0.00015\n",
      "3900/5000 pde_loss 0.00171 boundary_loss 0.00001\n",
      "3950/5000 pde_loss 0.00152 boundary_loss 0.00028\n",
      "4000/5000 pde_loss 0.00952 boundary_loss 0.00184\n",
      "4050/5000 pde_loss 0.00288 boundary_loss 0.00037\n",
      "4100/5000 pde_loss 0.00089 boundary_loss 0.00012\n",
      "4150/5000 pde_loss 0.00070 boundary_loss 0.00000\n",
      "4200/5000 pde_loss 0.00247 boundary_loss 0.00005\n",
      "4250/5000 pde_loss 0.00060 boundary_loss 0.00012\n",
      "4300/5000 pde_loss 0.00559 boundary_loss 0.00023\n",
      "4350/5000 pde_loss 0.00051 boundary_loss 0.00000\n",
      "4400/5000 pde_loss 0.00112 boundary_loss 0.00005\n",
      "4450/5000 pde_loss 0.00261 boundary_loss 0.00003\n",
      "4500/5000 pde_loss 0.00620 boundary_loss 0.00100\n",
      "4550/5000 pde_loss 0.00044 boundary_loss 0.00006\n",
      "4600/5000 pde_loss 0.00091 boundary_loss 0.00002\n",
      "4650/5000 pde_loss 0.00030 boundary_loss 0.00001\n",
      "4700/5000 pde_loss 0.00068 boundary_loss 0.00001\n",
      "4750/5000 pde_loss 0.00043 boundary_loss 0.00001\n",
      "4800/5000 pde_loss 0.00041 boundary_loss 0.00000\n",
      "4850/5000 pde_loss 0.01718 boundary_loss 0.00092\n",
      "4900/5000 pde_loss 0.00104 boundary_loss 0.00001\n",
      "4950/5000 pde_loss 0.00142 boundary_loss 0.00005\n"
     ]
    }
   ],
   "source": [
    "N_STEPS = 5000\n",
    "BATCH_SIZE = 100\n",
    "\n",
    "optimizer = torch.optim.Adam(mlp.parameters(), lr=0.02)\n",
    "criterion = torch.nn.MSELoss()\n",
    "\n",
    "hist = []\n",
    "log_each = 50\n",
    "for step in range(1, N_STEPS):\n",
    "\n",
    "    X = samples(BATCH_SIZE, 1)\n",
    "    X.requires_grad_(True)\n",
    "    \n",
    "    # pde loss\n",
    "    f = mlp(X)\n",
    "    df_dx, = torch.autograd.grad(f, X, grad_outputs = torch.ones_like(X),create_graph=True)\n",
    "    pde_loss = criterion(df_dx, 2*torch.pi*torch.cos(2*torch.pi*X))\n",
    "\n",
    "    # boundary condition loss\n",
    "    boundary_loss = criterion(mlp(torch.tensor([0.]).reshape(1,1)), torch.tensor([0.5]).reshape(1,1)) \n",
    "    \n",
    "    # update\n",
    "    optimizer.zero_grad()\n",
    "    loss = pde_loss + boundary_loss\n",
    "    loss.backward()\n",
    "    optimizer.step()\n",
    "   \n",
    "    hist.append(loss.item())\n",
    "    if step % log_each == 0:\n",
    "        print(f'{step}/{N_STEPS} pde_loss {pde_loss.item():.5f} boundary_loss {boundary_loss.item():.5f}')"
   ]
  },
  {
   "cell_type": "code",
   "execution_count": 5,
   "metadata": {},
   "outputs": [
    {
     "data": {
      "text/plain": [
       "[<matplotlib.lines.Line2D at 0x225a69ff0a0>]"
      ]
     },
     "execution_count": 5,
     "metadata": {},
     "output_type": "execute_result"
    },
    {
     "data": {
      "image/png": "[encoded data removed]",
      "text/plain": [
       "<Figure size 432x288 with 1 Axes>"
      ]
     },
     "metadata": {
      "needs_background": "light"
     },
     "output_type": "display_data"
    }
   ],
   "source": [
    "y= mlp(torch.linspace(0,1,10).reshape(-1,1)).detach().numpy().reshape(-1)\n",
    "plt.scatter(np.linspace(0,1,10), y , c='green')\n",
    "# actual solution\n",
    "plt.plot(np.linspace(0,1,100), np.sin(2 * np.pi * np.linspace(0,1,100)) + 0.5, c='black')"
   ]
  }
 ],
 "metadata": {
  "interpreter": {
   "hash": "b3ba2566441a7c06988d0923437866b63cedc61552a5af99d1f4fb67d367b25f"
  },
  "kernelspec": {
   "display_name": "Python 3.9.7 64-bit ('base': conda)",
   "language": "python",
   "name": "python3"
  },
  "language_info": {
   "codemirror_mode": {
    "name": "ipython",
    "version": 3
   },
   "file_extension": ".py",
   "mimetype": "text/x-python",
   "name": "python",
   "nbconvert_exporter": "python",
   "pygments_lexer": "ipython3",
   "version": "3.8.10"
  },
  "orig_nbformat": 4
 },
 "nbformat": 4,
 "nbformat_minor": 2
}
